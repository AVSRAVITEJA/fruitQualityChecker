{
 "cells": [
  {
   "cell_type": "code",
   "execution_count": 9,
   "id": "e064bf09-bcb2-4ccd-9343-38ba5603027e",
   "metadata": {},
   "outputs": [],
   "source": [
    "import numpy as np \n",
    "import pandas as pd\n",
    "import matplotlib.pyplot as plt \n",
    "import seaborn as sns \n",
    "import tensorflow as tf\n",
    "import cv2\n",
    "from sklearn.model_selection import train_test_split\n",
    "from tensorflow.keras.models import Sequential\n",
    "from tensorflow.keras.layers import Conv2D, MaxPooling2D, Flatten, Dense, Dropout\n",
    "import os\n",
    "from PIL import Image"
   ]
  },
  {
   "cell_type": "code",
   "execution_count": 11,
   "id": "3fe2925d-d828-44c1-9faa-2b534559fa52",
   "metadata": {},
   "outputs": [
    {
     "name": "stdout",
     "output_type": "stream",
     "text": [
      "Path to dataset files: C:\\Users\\Hp\\.cache\\kagglehub\\datasets\\raghavrpotdar\\fresh-and-stale-images-of-fruits-and-vegetables\\versions\\1\n"
     ]
    }
   ],
   "source": [
    "import kagglehub\n",
    "\n",
    "# Download latest version\n",
    "path = kagglehub.dataset_download(\"raghavrpotdar/fresh-and-stale-images-of-fruits-and-vegetables\")\n",
    "\n",
    "print(\"Path to dataset files:\", path)"
   ]
  },
  {
   "cell_type": "code",
   "execution_count": 13,
   "id": "1d035c47-1341-4321-a1a8-98ad99b5494e",
   "metadata": {},
   "outputs": [],
   "source": [
    "data_dir = path\n",
    "categories = os.listdir(data_dir)"
   ]
  },
  {
   "cell_type": "code",
   "execution_count": 17,
   "id": "ef171b68-d413-4e9b-8c2b-a07c31208a1d",
   "metadata": {
    "scrolled": true
   },
   "outputs": [
    {
     "name": "stdout",
     "output_type": "stream",
     "text": [
      "Skipping non-directory item: C:\\Users\\Hp\\.cache\\kagglehub\\datasets\\raghavrpotdar\\fresh-and-stale-images-of-fruits-and-vegetables\\versions\\1\\ImageLabels.txt\n",
      "Loaded 14682 images and 14682 labels.\n"
     ]
    }
   ],
   "source": [
    "data_dir = r'C:\\Users\\Hp\\.cache\\kagglehub\\datasets\\raghavrpotdar\\fresh-and-stale-images-of-fruits-and-vegetables\\versions\\1'\n",
    "\n",
    "images = []\n",
    "labels = []\n",
    "\n",
    "\n",
    "categories = os.listdir(data_dir)\n",
    "\n",
    "for category in categories:\n",
    "    category_path = os.path.join(data_dir, category)\n",
    "    \n",
    "\n",
    "    if os.path.isdir(category_path):\n",
    "        label = categories.index(category)  \n",
    "        \n",
    "    \n",
    "        for img_name in os.listdir(category_path):\n",
    "            img_path = os.path.join(category_path, img_name)\n",
    "            \n",
    "            try:\n",
    "        \n",
    "                img = cv2.imread(img_path)\n",
    "                if img is not None: \n",
    "                    img = cv2.resize(img, (128, 128))  \n",
    "                    images.append(img)\n",
    "                    labels.append(label)\n",
    "                else:\n",
    "                    print(f\"Invalid image file: {img_path}\")\n",
    "            except Exception as e:\n",
    "                print(f\"Error loading image: {img_path}, Error: {e}\")\n",
    "    else:\n",
    "        print(f\"Skipping non-directory item: {category_path}\")\n",
    "\n",
    "images = np.array(images)\n",
    "labels = np.array(labels)\n",
    "\n",
    "print(f\"Loaded {len(images)} images and {len(labels)} labels.\")"
   ]
  },
  {
   "cell_type": "code",
   "execution_count": 19,
   "id": "0dc77139-cb04-423f-afeb-93d9a6e811fa",
   "metadata": {},
   "outputs": [],
   "source": [
    "X_train, X_temp, y_train, y_temp = train_test_split(images, labels, test_size=0.3, random_state=42)\n",
    "X_val, X_test, y_val, y_test = train_test_split(X_temp, y_temp, test_size=0.5, random_state=42)\n"
   ]
  },
  {
   "cell_type": "code",
   "execution_count": 21,
   "id": "b51aef18-5f98-4d22-b796-4631b8a50d15",
   "metadata": {},
   "outputs": [],
   "source": [
    "X_train= X_train/255.0\n",
    "X_val=X_val/255.0\n",
    "X_test=X_test/255.0"
   ]
  },
  {
   "cell_type": "code",
   "execution_count": 25,
   "id": "5ae312fc-4213-4411-a2f7-0b9bf2638f97",
   "metadata": {},
   "outputs": [
    {
     "name": "stderr",
     "output_type": "stream",
     "text": [
      "C:\\Users\\Hp\\anaconda3\\Lib\\site-packages\\keras\\src\\layers\\convolutional\\base_conv.py:107: UserWarning: Do not pass an `input_shape`/`input_dim` argument to a layer. When using Sequential models, prefer using an `Input(shape)` object as the first layer in the model instead.\n",
      "  super().__init__(activity_regularizer=activity_regularizer, **kwargs)\n"
     ]
    }
   ],
   "source": [
    "model = Sequential([\n",
    "    Conv2D(32, (3,3), activation='relu', input_shape=(128,128,3)),\n",
    "    MaxPooling2D((2,2)),\n",
    "    Conv2D(64, (3,3), activation='relu'),\n",
    "    MaxPooling2D((2,2)),\n",
    "    Conv2D(128, (3,3), activation='relu'),\n",
    "    MaxPooling2D((2,2)),\n",
    "    Flatten(),\n",
    "    Dense(128, activation='relu'),\n",
    "    Dropout(0.5),\n",
    "    Dense(len(categories), activation='softmax')\n",
    "])\n",
    "model.compile(optimizer='adam', loss='sparse_categorical_crossentropy', metrics=['accuracy'])"
   ]
  },
  {
   "cell_type": "code",
   "execution_count": 27,
   "id": "21aad04a-f2f6-4dfc-8812-5fbe16d9271a",
   "metadata": {},
   "outputs": [
    {
     "name": "stdout",
     "output_type": "stream",
     "text": [
      "Epoch 1/10\n",
      "\u001b[1m322/322\u001b[0m \u001b[32m━━━━━━━━━━━━━━━━━━━━\u001b[0m\u001b[37m\u001b[0m \u001b[1m105s\u001b[0m 317ms/step - accuracy: 0.4372 - loss: 1.6132 - val_accuracy: 0.8070 - val_loss: 0.5580\n",
      "Epoch 2/10\n",
      "\u001b[1m322/322\u001b[0m \u001b[32m━━━━━━━━━━━━━━━━━━━━\u001b[0m\u001b[37m\u001b[0m \u001b[1m128s\u001b[0m 398ms/step - accuracy: 0.7661 - loss: 0.6500 - val_accuracy: 0.8501 - val_loss: 0.3856\n",
      "Epoch 3/10\n",
      "\u001b[1m322/322\u001b[0m \u001b[32m━━━━━━━━━━━━━━━━━━━━\u001b[0m\u001b[37m\u001b[0m \u001b[1m130s\u001b[0m 405ms/step - accuracy: 0.8477 - loss: 0.4276 - val_accuracy: 0.9187 - val_loss: 0.2195\n",
      "Epoch 4/10\n",
      "\u001b[1m322/322\u001b[0m \u001b[32m━━━━━━━━━━━━━━━━━━━━\u001b[0m\u001b[37m\u001b[0m \u001b[1m130s\u001b[0m 402ms/step - accuracy: 0.8824 - loss: 0.3218 - val_accuracy: 0.9024 - val_loss: 0.2717\n",
      "Epoch 5/10\n",
      "\u001b[1m322/322\u001b[0m \u001b[32m━━━━━━━━━━━━━━━━━━━━\u001b[0m\u001b[37m\u001b[0m \u001b[1m133s\u001b[0m 412ms/step - accuracy: 0.8740 - loss: 0.3455 - val_accuracy: 0.9287 - val_loss: 0.1697\n",
      "Epoch 6/10\n",
      "\u001b[1m322/322\u001b[0m \u001b[32m━━━━━━━━━━━━━━━━━━━━\u001b[0m\u001b[37m\u001b[0m \u001b[1m132s\u001b[0m 410ms/step - accuracy: 0.9117 - loss: 0.2433 - val_accuracy: 0.9242 - val_loss: 0.1929\n",
      "Epoch 7/10\n",
      "\u001b[1m322/322\u001b[0m \u001b[32m━━━━━━━━━━━━━━━━━━━━\u001b[0m\u001b[37m\u001b[0m \u001b[1m93s\u001b[0m 287ms/step - accuracy: 0.9260 - loss: 0.1980 - val_accuracy: 0.9337 - val_loss: 0.1646\n",
      "Epoch 8/10\n",
      "\u001b[1m322/322\u001b[0m \u001b[32m━━━━━━━━━━━━━━━━━━━━\u001b[0m\u001b[37m\u001b[0m \u001b[1m146s\u001b[0m 300ms/step - accuracy: 0.9293 - loss: 0.1975 - val_accuracy: 0.9614 - val_loss: 0.1136\n",
      "Epoch 9/10\n",
      "\u001b[1m322/322\u001b[0m \u001b[32m━━━━━━━━━━━━━━━━━━━━\u001b[0m\u001b[37m\u001b[0m \u001b[1m77s\u001b[0m 239ms/step - accuracy: 0.9415 - loss: 0.1646 - val_accuracy: 0.9437 - val_loss: 0.1537\n",
      "Epoch 10/10\n",
      "\u001b[1m322/322\u001b[0m \u001b[32m━━━━━━━━━━━━━━━━━━━━\u001b[0m\u001b[37m\u001b[0m \u001b[1m72s\u001b[0m 225ms/step - accuracy: 0.9469 - loss: 0.1406 - val_accuracy: 0.9569 - val_loss: 0.1176\n"
     ]
    }
   ],
   "source": [
    "model_train= model.fit(X_train, y_train, validation_data=(X_val, y_val), epochs=10, batch_size=32)"
   ]
  },
  {
   "cell_type": "code",
   "execution_count": 29,
   "id": "15f2d50b-d7fc-4894-a7ac-ea7ed1af3c25",
   "metadata": {},
   "outputs": [
    {
     "name": "stdout",
     "output_type": "stream",
     "text": [
      "\u001b[1m69/69\u001b[0m \u001b[32m━━━━━━━━━━━━━━━━━━━━\u001b[0m\u001b[37m\u001b[0m \u001b[1m4s\u001b[0m 64ms/step - accuracy: 0.9565 - loss: 0.1241\n",
      "Test Accuracy 94.92%\n"
     ]
    }
   ],
   "source": [
    "test_loss, test_acc= model.evaluate(X_test, y_test)\n",
    "print(f\"Test Accuracy {test_acc*100:.2f}%\")"
   ]
  },
  {
   "cell_type": "code",
   "execution_count": 37,
   "id": "a8a4a6e7-702c-4970-bcbb-0cd9a7a1be44",
   "metadata": {},
   "outputs": [
    {
     "data": {
      "image/png": "[encoded data removed]",
      "text/plain": [
       "<Figure size 640x480 with 1 Axes>"
      ]
     },
     "metadata": {},
     "output_type": "display_data"
    }
   ],
   "source": [
    "plt.plot(model_train.history['accuracy'], label='Training Accuracy')\n",
    "plt.plot(model_train.history['val_accuracy'], label='Validation Accuracy')\n",
    "plt.xlabel('Epochs')\n",
    "plt.ylabel('Accuracy')\n",
    "plt.legend()\n",
    "plt.title('Training and Validation Accuracy')\n",
    "plt.show()"
   ]
  },
  {
   "cell_type": "markdown",
   "id": "483cb6f6-041c-41f3-be6a-edea4d4f2922",
   "metadata": {},
   "source": []
  }
 ],
 "metadata": {
  "kernelspec": {
   "display_name": "Python 3 (ipykernel)",
   "language": "python",
   "name": "python3"
  },
  "language_info": {
   "codemirror_mode": {
    "name": "ipython",
    "version": 3
   },
   "file_extension": ".py",
   "mimetype": "text/x-python",
   "name": "python",
   "nbconvert_exporter": "python",
   "pygments_lexer": "ipython3",
   "version": "3.12.4"
  }
 },
 "nbformat": 4,
 "nbformat_minor": 5
}
