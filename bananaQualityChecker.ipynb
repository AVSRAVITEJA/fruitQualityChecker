{
 "cells": [
  {
   "cell_type": "code",
   "execution_count": 1,
   "id": "c6bb0dc1-71b7-4c64-a0a5-5c0878ae5f1d",
   "metadata": {},
   "outputs": [],
   "source": [
    "import tensorflow as tf\n",
    "from tensorflow.keras.preprocessing.image import ImageDataGenerator\n",
    "from tensorflow.keras.models import Sequential\n",
    "from tensorflow.keras.layers import Conv2D, MaxPooling2D, Flatten, Dense, Dropout\n",
    "from tensorflow.keras.optimizers import Adam\n",
    "import matplotlib.pyplot as plt\n",
    "import os"
   ]
  },
  {
   "cell_type": "code",
   "execution_count": 3,
   "id": "bed85701-72d0-4568-92ff-3b772d174457",
   "metadata": {},
   "outputs": [],
   "source": [
    "base_path = r\"C:\\Users\\ravit\\project cycle\\banana_classification\"\n",
    "train_path = os.path.join(base_path, \"train\")\n",
    "val_path = os.path.join(base_path, \"valid\")"
   ]
  },
  {
   "cell_type": "code",
   "execution_count": 5,
   "id": "60bf7358-379a-4423-879a-6367ad21a973",
   "metadata": {},
   "outputs": [],
   "source": [
    "img_size = (150, 150)  \n",
    "batch_size = 32"
   ]
  },
  {
   "cell_type": "code",
   "execution_count": 7,
   "id": "92fc21f1-a97d-42f4-b6fa-741542c42ffc",
   "metadata": {},
   "outputs": [],
   "source": [
    "train_datagen = ImageDataGenerator(\n",
    "    rescale=1.0/255,   \n",
    "    rotation_range=30,\n",
    "    width_shift_range=0.2,\n",
    "    height_shift_range=0.2,\n",
    "    shear_range=0.2,\n",
    "    zoom_range=0.2,\n",
    "    horizontal_flip=True\n",
    ")"
   ]
  },
  {
   "cell_type": "code",
   "execution_count": 9,
   "id": "4abd5a25-b228-455b-bb09-cd8145d26f0d",
   "metadata": {},
   "outputs": [
    {
     "name": "stdout",
     "output_type": "stream",
     "text": [
      "Found 11793 images belonging to 4 classes.\n"
     ]
    }
   ],
   "source": [
    "val_datagen = ImageDataGenerator(rescale=1.0/255) \n",
    "\n",
    "\n",
    "train_generator = train_datagen.flow_from_directory(\n",
    "    train_path,\n",
    "    target_size=img_size,\n",
    "    batch_size=batch_size,\n",
    "    class_mode='categorical'\n",
    ")"
   ]
  },
  {
   "cell_type": "code",
   "execution_count": 11,
   "id": "d42d2df9-82b4-4ed6-b592-f73c191b06cb",
   "metadata": {},
   "outputs": [
    {
     "name": "stdout",
     "output_type": "stream",
     "text": [
      "Found 1123 images belonging to 4 classes.\n"
     ]
    }
   ],
   "source": [
    "val_generator = val_datagen.flow_from_directory(\n",
    "    val_path,\n",
    "    target_size=img_size,\n",
    "    batch_size=batch_size,\n",
    "    class_mode='categorical'\n",
    ")\n"
   ]
  },
  {
   "cell_type": "code",
   "execution_count": 19,
   "id": "8c64fc70-437f-4477-bffa-2bf2d1af4041",
   "metadata": {},
   "outputs": [],
   "source": [
    "model = Sequential([\n",
    "    Conv2D(32, (3,3), activation='relu', input_shape=(150, 150, 3)),\n",
    "    MaxPooling2D(2,2),\n",
    "    \n",
    "    Conv2D(64, (3,3), activation='relu'),\n",
    "    MaxPooling2D(2,2),\n",
    "    \n",
    "    Conv2D(128, (3,3), activation='relu'),\n",
    "    MaxPooling2D(2,2),\n",
    "\n",
    "    Flatten(),\n",
    "    Dense(512, activation='relu'),\n",
    "    Dropout(0.5),  \n",
    "    Dense(4, activation='softmax')  \n",
    "])\n"
   ]
  },
  {
   "cell_type": "code",
   "execution_count": 21,
   "id": "cd0dba1e-5b44-48eb-aed1-0254aa3b5376",
   "metadata": {},
   "outputs": [],
   "source": [
    "model.compile(optimizer=Adam(learning_rate=0.001),\n",
    "              loss='categorical_crossentropy',\n",
    "              metrics=['accuracy'])\n"
   ]
  },
  {
   "cell_type": "code",
   "execution_count": 23,
   "id": "2434d262-ab53-43db-a0be-577fe7d95962",
   "metadata": {},
   "outputs": [
    {
     "name": "stdout",
     "output_type": "stream",
     "text": [
      "Epoch 1/10\n",
      "\u001b[1m369/369\u001b[0m \u001b[32m━━━━━━━━━━━━━━━━━━━━\u001b[0m\u001b[37m\u001b[0m \u001b[1m254s\u001b[0m 681ms/step - accuracy: 0.5491 - loss: 1.0652 - val_accuracy: 0.8094 - val_loss: 0.4738\n",
      "Epoch 2/10\n",
      "\u001b[1m369/369\u001b[0m \u001b[32m━━━━━━━━━━━━━━━━━━━━\u001b[0m\u001b[37m\u001b[0m \u001b[1m230s\u001b[0m 623ms/step - accuracy: 0.8543 - loss: 0.3914 - val_accuracy: 0.9127 - val_loss: 0.2546\n",
      "Epoch 3/10\n",
      "\u001b[1m369/369\u001b[0m \u001b[32m━━━━━━━━━━━━━━━━━━━━\u001b[0m\u001b[37m\u001b[0m \u001b[1m221s\u001b[0m 600ms/step - accuracy: 0.8905 - loss: 0.3082 - val_accuracy: 0.9110 - val_loss: 0.2695\n",
      "Epoch 4/10\n",
      "\u001b[1m369/369\u001b[0m \u001b[32m━━━━━━━━━━━━━━━━━━━━\u001b[0m\u001b[37m\u001b[0m \u001b[1m263s\u001b[0m 601ms/step - accuracy: 0.8983 - loss: 0.2769 - val_accuracy: 0.9386 - val_loss: 0.2001\n",
      "Epoch 5/10\n",
      "\u001b[1m369/369\u001b[0m \u001b[32m━━━━━━━━━━━━━━━━━━━━\u001b[0m\u001b[37m\u001b[0m \u001b[1m222s\u001b[0m 601ms/step - accuracy: 0.9066 - loss: 0.2701 - val_accuracy: 0.9403 - val_loss: 0.1759\n",
      "Epoch 6/10\n",
      "\u001b[1m369/369\u001b[0m \u001b[32m━━━━━━━━━━━━━━━━━━━━\u001b[0m\u001b[37m\u001b[0m \u001b[1m262s\u001b[0m 602ms/step - accuracy: 0.9168 - loss: 0.2371 - val_accuracy: 0.9466 - val_loss: 0.1712\n",
      "Epoch 7/10\n",
      "\u001b[1m369/369\u001b[0m \u001b[32m━━━━━━━━━━━━━━━━━━━━\u001b[0m\u001b[37m\u001b[0m \u001b[1m262s\u001b[0m 602ms/step - accuracy: 0.9192 - loss: 0.2308 - val_accuracy: 0.8736 - val_loss: 0.3600\n",
      "Epoch 8/10\n",
      "\u001b[1m369/369\u001b[0m \u001b[32m━━━━━━━━━━━━━━━━━━━━\u001b[0m\u001b[37m\u001b[0m \u001b[1m269s\u001b[0m 620ms/step - accuracy: 0.9270 - loss: 0.2058 - val_accuracy: 0.9439 - val_loss: 0.1681\n",
      "Epoch 9/10\n",
      "\u001b[1m369/369\u001b[0m \u001b[32m━━━━━━━━━━━━━━━━━━━━\u001b[0m\u001b[37m\u001b[0m \u001b[1m229s\u001b[0m 621ms/step - accuracy: 0.9313 - loss: 0.1963 - val_accuracy: 0.9305 - val_loss: 0.1959\n",
      "Epoch 10/10\n",
      "\u001b[1m369/369\u001b[0m \u001b[32m━━━━━━━━━━━━━━━━━━━━\u001b[0m\u001b[37m\u001b[0m \u001b[1m230s\u001b[0m 623ms/step - accuracy: 0.9308 - loss: 0.2049 - val_accuracy: 0.9519 - val_loss: 0.1452\n"
     ]
    }
   ],
   "source": [
    "epochs = 10\n",
    "history = model.fit(train_generator,\n",
    "                    validation_data=val_generator,\n",
    "                    epochs=epochs)\n"
   ]
  },
  {
   "cell_type": "code",
   "execution_count": 25,
   "id": "f43b6e80-88cc-4552-9e6f-2654c4d26ca1",
   "metadata": {},
   "outputs": [
    {
     "data": {
      "image/png": "[encoded data removed]",
      "text/plain": [
       "<Figure size 800x600 with 1 Axes>"
      ]
     },
     "metadata": {},
     "output_type": "display_data"
    }
   ],
   "source": [
    "plt.figure(figsize=(8, 6))\n",
    "plt.plot(history.history['accuracy'], label='Training Accuracy')\n",
    "plt.plot(history.history['val_accuracy'], label='Validation Accuracy')\n",
    "plt.xlabel('Epochs')\n",
    "plt.ylabel('Accuracy')\n",
    "plt.legend()\n",
    "plt.title('Model Training & Validation Accuracy')\n",
    "plt.grid()\n",
    "plt.show()"
   ]
  },
  {
   "cell_type": "code",
   "execution_count": 29,
   "id": "2c9a1230-5405-4358-b2d8-c5bf35b26c5f",
   "metadata": {},
   "outputs": [],
   "source": [
    "model.save(\"banana_quality_model.keras\")\n"
   ]
  },
  {
   "cell_type": "code",
   "execution_count": 35,
   "id": "64e16a1b-2e30-4c51-9ce4-6894c5b9eb78",
   "metadata": {},
   "outputs": [
    {
     "name": "stdout",
     "output_type": "stream",
     "text": [
      "Found 562 images belonging to 4 classes.\n",
      "\u001b[1m18/18\u001b[0m \u001b[32m━━━━━━━━━━━━━━━━━━━━\u001b[0m\u001b[37m\u001b[0m \u001b[1m4s\u001b[0m 199ms/step\n",
      "Test Accuracy: 94.13%\n",
      "\n",
      "Sample Predictions:\n",
      "Actual: overripe, Predicted: overripe\n",
      "Actual: overripe, Predicted: overripe\n",
      "Actual: overripe, Predicted: overripe\n",
      "Actual: overripe, Predicted: overripe\n",
      "Actual: overripe, Predicted: overripe\n",
      "Actual: overripe, Predicted: overripe\n",
      "Actual: overripe, Predicted: overripe\n",
      "Actual: overripe, Predicted: overripe\n",
      "Actual: overripe, Predicted: overripe\n",
      "Actual: overripe, Predicted: overripe\n"
     ]
    }
   ],
   "source": [
    "import tensorflow as tf\n",
    "from tensorflow.keras.preprocessing.image import ImageDataGenerator\n",
    "import numpy as np\n",
    "import os\n",
    "\n",
    "\n",
    "model = tf.keras.models.load_model(\"banana_quality_model.keras\")\n",
    "\n",
    "base_path = r\"C:\\Users\\ravit\\project cycle\\banana_classification\"\n",
    "test_path = os.path.join(base_path, \"test\")\n",
    "\n",
    "img_size = (150, 150)  \n",
    "batch_size = 32  \n",
    "\n",
    "\n",
    "test_datagen = ImageDataGenerator(rescale=1.0/255)\n",
    "\n",
    "\n",
    "test_generator = test_datagen.flow_from_directory(\n",
    "    test_path,\n",
    "    target_size=img_size,\n",
    "    batch_size=batch_size,\n",
    "    class_mode='categorical',\n",
    "    shuffle=False \n",
    ")\n",
    "\n",
    "\n",
    "predictions = model.predict(test_generator)\n",
    "\n",
    "\n",
    "predicted_classes = np.argmax(predictions, axis=1)\n",
    "\n",
    "\n",
    "true_classes = test_generator.classes\n",
    "class_labels = list(test_generator.class_indices.keys())\n",
    "\n",
    "\n",
    "accuracy = np.sum(predicted_classes == true_classes) / len(true_classes)\n",
    "print(f\"Test Accuracy: {accuracy * 100:.2f}%\")\n",
    "\n",
    "\n",
    "print(\"\\nSample Predictions:\")\n",
    "for i in range(10):\n",
    "    print(f\"Actual: {class_labels[true_classes[i]]}, Predicted: {class_labels[predicted_classes[i]]}\")\n"
   ]
  },
  {
   "cell_type": "code",
   "execution_count": null,
   "id": "d523462b-8ebf-4fe4-9f89-cc98089eb8af",
   "metadata": {},
   "outputs": [],
   "source": []
  }
 ],
 "metadata": {
  "kernelspec": {
   "display_name": "Python (tensorflow_env)",
   "language": "python",
   "name": "tensorflow_env"
  },
  "language_info": {
   "codemirror_mode": {
    "name": "ipython",
    "version": 3
   },
   "file_extension": ".py",
   "mimetype": "text/x-python",
   "name": "python",
   "nbconvert_exporter": "python",
   "pygments_lexer": "ipython3",
   "version": "3.12.7"
  }
 },
 "nbformat": 4,
 "nbformat_minor": 5
}
